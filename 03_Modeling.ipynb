{
 "cells": [
  {
   "cell_type": "markdown",
   "metadata": {},
   "source": [
    "### *Imports*"
   ]
  },
  {
   "cell_type": "code",
   "execution_count": 277,
   "metadata": {},
   "outputs": [],
   "source": [
    "import pandas as pd\n",
    "import seaborn as sns\n",
    "import matplotlib.pyplot as plt\n",
    "import numpy as np\n",
    "from sklearn.model_selection import train_test_split, cross_val_score, GridSearchCV, RandomizedSearchCV\n",
    "from sklearn import metrics\n",
    "from sklearn.preprocessing import StandardScaler\n",
    "from sklearn.neighbors import KNeighborsRegressor\n",
    "import statsmodels.api as sm\n",
    "from sklearn.linear_model import Ridge, RidgeCV, Lasso, LinearRegression, ElasticNetCV\n",
    "from sklearn.pipeline import Pipeline\n",
    "from sklearn.tree import DecisionTreeRegressor\n",
    "from sklearn.ensemble import BaggingRegressor, RandomForestRegressor, AdaBoostRegressor\n",
    "from sklearn.svm import SVR\n",
    "from sklearn.pipeline import Pipeline\n",
    "from sklearn.metrics import mean_squared_error, r2_score\n",
    "from sklearn.svm import SVC\n",
    "from sklearn.dummy import DummyRegressor\n",
    "import keras\n",
    "from keras.models import Sequential\n",
    "from keras.layers import Dense, Dropout, BatchNormalization, Input\n",
    "from keras.regularizers import l1, l2\n",
    "from keras.callbacks import EarlyStopping\n",
    "from sklearn.ensemble import GradientBoostingRegressor"
   ]
  },
  {
   "cell_type": "code",
   "execution_count": 278,
   "metadata": {},
   "outputs": [],
   "source": [
    "import warnings\n",
    "warnings.filterwarnings('ignore')"
   ]
  },
  {
   "cell_type": "markdown",
   "metadata": {},
   "source": [
    "### *Baseline Model*"
   ]
  },
  {
   "cell_type": "code",
   "execution_count": 279,
   "metadata": {},
   "outputs": [],
   "source": [
    "data = pd.read_csv('data/finaldata.csv') #Read in features dataframe \n",
    "df = data.select_dtypes([np.number]) #only look at numeric columns\n",
    "ytarget = pd.read_csv('data/ytargets.csv') #Read in target dataframe"
   ]
  },
  {
   "cell_type": "code",
   "execution_count": 280,
   "metadata": {},
   "outputs": [],
   "source": [
    "X = df #397 different fangraphs statistics for the features"
   ]
  },
  {
   "cell_type": "code",
   "execution_count": 281,
   "metadata": {},
   "outputs": [],
   "source": [
    "y = ytarget#trying to predict wins"
   ]
  },
  {
   "cell_type": "code",
   "execution_count": 284,
   "metadata": {},
   "outputs": [],
   "source": [
    "X_train, X_test, y_train, y_test = train_test_split(X, y, random_state=12) #train test split"
   ]
  },
  {
   "cell_type": "code",
   "execution_count": 285,
   "metadata": {},
   "outputs": [
    {
     "data": {
      "text/plain": [
       "StandardScaler()"
      ]
     },
     "execution_count": 285,
     "metadata": {},
     "output_type": "execute_result"
    }
   ],
   "source": [
    "ss = StandardScaler()\n",
    "ss.fit(X_train) #Scale and fit data"
   ]
  },
  {
   "cell_type": "code",
   "execution_count": 286,
   "metadata": {},
   "outputs": [],
   "source": [
    "X_train_sc = ss.transform(X_train)\n",
    "X_test_sc = ss.transform(X_test) #Scale and Transform data"
   ]
  },
  {
   "cell_type": "code",
   "execution_count": 287,
   "metadata": {},
   "outputs": [
    {
     "name": "stdout",
     "output_type": "stream",
     "text": [
      "Baseline model Test RMSE: 13.061666465815055\n"
     ]
    }
   ],
   "source": [
    "# instantiate baseline model that predicts the mean of the data every time\n",
    "base_model = DummyRegressor(strategy = 'mean')\n",
    "\n",
    "# Fit model\n",
    "base_model = base_model.fit(X_train_sc, y_train)\n",
    "\n",
    "# get predictions\n",
    "base_test_preds = base_model.predict(X_test_sc)\n",
    "\n",
    "\n",
    "# Evaluate: Let's use RMSE\n",
    "\n",
    "print(f'Baseline model Test RMSE: {np.sqrt(mean_squared_error((y_test), base_test_preds))}')"
   ]
  },
  {
   "cell_type": "markdown",
   "metadata": {},
   "source": [
    "Score to beat: \n",
    "Baseline model Test RMSE: 13.061666465815055\n"
   ]
  },
  {
   "cell_type": "code",
   "execution_count": 288,
   "metadata": {},
   "outputs": [
    {
     "data": {
      "text/plain": [
       "L.1./P        0.487254\n",
       "K%+./P        0.471963\n",
       "K/BB+./P      0.471805\n",
       "xFIP-./P      0.458418\n",
       "WAR           0.451891\n",
       "                ...   \n",
       "wFB/C         0.313673\n",
       "BB%+          0.309580\n",
       "TBF./P        0.307666\n",
       "wFA/C (pi)    0.302626\n",
       "tERA./P       0.300103\n",
       "Name: W./P, Length: 84, dtype: float64"
      ]
     },
     "execution_count": 288,
     "metadata": {},
     "output_type": "execute_result"
    }
   ],
   "source": [
    "cor = df.corr()\n",
    "#Correlation with output variable\n",
    "cor_target = abs(cor[\"W./P\"])\n",
    "#Selecting highly correlated features but not too highly correlated\n",
    "features = cor_target[(cor_target > .3) & (cor_target < .5)]\n",
    "features.sort_values(ascending= False)"
   ]
  },
  {
   "cell_type": "code",
   "execution_count": 289,
   "metadata": {},
   "outputs": [],
   "source": [
    "featureslist = features.index.tolist() #move these features into a list"
   ]
  },
  {
   "cell_type": "code",
   "execution_count": 293,
   "metadata": {},
   "outputs": [],
   "source": [
    "#removing some features that repeat/too correlated to others\n",
    "nicelist = []\n",
    "for i in featureslist:\n",
    "    if i not in ('RE24./P','RA9-WAR./P', 'WAR.1','RAR','RE24','ERA.1./P','Off.1', '-WPA./P','RAR./P','WAR.1./P','wRC+.1',\n",
    "                   'Bat', 'SV.1./P','wFB./P','wFB/C./P','FDP-Wins./P','wRAA','Starting./P','wFA (pfx)./P','wFA/C (pfx)./P',\n",
    "                   'RS./P','R.1','wFA/C (pi)./P','wFA (pi)./P','RBI.1','FIP.1./P','ERA-./P','FIP-./P','xFIP-./P','AVG+./P',\n",
    "                   'WHIP+./P','LOB%+./P','K%+./P', 'Off', 'ER./P', 'K/BB+./P', 'H/9+./P','H/9./P', 'xFIP./P', 'L.1./P','OBP.1', \n",
    "                    'BB/K', 'Age', 'OBP', 'R','SIERA./P','kwERA./P','K/9+./P','xFIP.1./P','K%+', 'BB%+', 'wFB','wFB/C','wFA/C (pi)',\n",
    "                    'wRC', 'wOBA.1', 'Balls', 'PA.1', 'PA', 'TBF./P','SO./P', 'tERA./P', 'RS/9./P','BB/9+./P',\n",
    "                    'K/9.1./P',):\n",
    "        nicelist.append(i)"
   ]
  },
  {
   "cell_type": "code",
   "execution_count": 294,
   "metadata": {},
   "outputs": [
    {
     "data": {
      "text/plain": [
       "['K/9./P',\n",
       " 'ERA./P',\n",
       " 'FIP./P',\n",
       " 'WAR./P',\n",
       " 'H./P',\n",
       " 'R./P',\n",
       " 'K/BB./P',\n",
       " 'AVG./P',\n",
       " 'WHIP./P',\n",
       " 'WPA./P',\n",
       " 'REW./P',\n",
       " 'WPA/LI./P',\n",
       " 'RBI',\n",
       " 'wOBA',\n",
       " 'wRC+',\n",
       " 'WAR',\n",
       " 'OPS',\n",
       " 'WPA',\n",
       " 'REW',\n",
       " 'WPA/LI',\n",
       " 'OBP+']"
      ]
     },
     "execution_count": 294,
     "metadata": {},
     "output_type": "execute_result"
    }
   ],
   "source": [
    "nicelist"
   ]
  },
  {
   "cell_type": "code",
   "execution_count": 295,
   "metadata": {},
   "outputs": [],
   "source": [
    "X = df[nicelist] #features to predict wins\n",
    "y = ytarget #wins"
   ]
  },
  {
   "cell_type": "code",
   "execution_count": 296,
   "metadata": {},
   "outputs": [
    {
     "data": {
      "text/plain": [
       "StandardScaler()"
      ]
     },
     "execution_count": 296,
     "metadata": {},
     "output_type": "execute_result"
    }
   ],
   "source": [
    "X_train, X_test, y_train, y_test = train_test_split(X, y, random_state=12)\n",
    "ss = StandardScaler()\n",
    "ss.fit(X_train) #fit/standardize"
   ]
  },
  {
   "cell_type": "code",
   "execution_count": 297,
   "metadata": {},
   "outputs": [],
   "source": [
    "X_train_sc = ss.transform(X_train)\n",
    "X_test_sc = ss.transform(X_test) #transform standardization"
   ]
  },
  {
   "cell_type": "code",
   "execution_count": 298,
   "metadata": {},
   "outputs": [
    {
     "name": "stdout",
     "output_type": "stream",
     "text": [
      "Epoch 1/100\n",
      "8/8 [==============================] - 1s 46ms/step - loss: 6523.7411 - val_loss: 6776.3726\n",
      "Epoch 2/100\n",
      "8/8 [==============================] - 0s 9ms/step - loss: 6450.4317 - val_loss: 6618.0010\n",
      "Epoch 3/100\n",
      "8/8 [==============================] - 0s 10ms/step - loss: 6460.2576 - val_loss: 6308.0449\n",
      "Epoch 4/100\n",
      "8/8 [==============================] - 0s 13ms/step - loss: 6111.3650 - val_loss: 5694.2515\n",
      "Epoch 5/100\n",
      "8/8 [==============================] - 0s 11ms/step - loss: 5322.1737 - val_loss: 4570.8682\n",
      "Epoch 6/100\n",
      "8/8 [==============================] - 0s 9ms/step - loss: 4274.5084 - val_loss: 2911.5945\n",
      "Epoch 7/100\n",
      "8/8 [==============================] - 0s 9ms/step - loss: 2602.9593 - val_loss: 1712.0175\n",
      "Epoch 8/100\n",
      "8/8 [==============================] - 0s 12ms/step - loss: 1292.9682 - val_loss: 2456.3103\n",
      "Epoch 9/100\n",
      "8/8 [==============================] - 0s 10ms/step - loss: 1252.0397 - val_loss: 2223.4954\n",
      "Epoch 10/100\n",
      "8/8 [==============================] - 0s 9ms/step - loss: 1018.2506 - val_loss: 1440.1680\n",
      "Epoch 11/100\n",
      "8/8 [==============================] - 0s 10ms/step - loss: 851.8871 - val_loss: 1224.8464\n",
      "Epoch 12/100\n",
      "8/8 [==============================] - 0s 10ms/step - loss: 754.5449 - val_loss: 1244.3851\n",
      "Epoch 13/100\n",
      "8/8 [==============================] - 0s 16ms/step - loss: 759.6883 - val_loss: 1299.7853\n",
      "Epoch 14/100\n",
      "8/8 [==============================] - 0s 15ms/step - loss: 753.5868 - val_loss: 1154.6630\n",
      "Epoch 15/100\n",
      "8/8 [==============================] - 0s 12ms/step - loss: 715.8914 - val_loss: 1034.6191\n",
      "Epoch 16/100\n",
      "8/8 [==============================] - 0s 11ms/step - loss: 701.8543 - val_loss: 987.4201\n",
      "Epoch 17/100\n",
      "8/8 [==============================] - 0s 10ms/step - loss: 670.5086 - val_loss: 934.3365\n",
      "Epoch 18/100\n",
      "8/8 [==============================] - 0s 9ms/step - loss: 596.2185 - val_loss: 875.8016\n",
      "Epoch 19/100\n",
      "8/8 [==============================] - 0s 15ms/step - loss: 567.2187 - val_loss: 831.0656\n",
      "Epoch 20/100\n",
      "8/8 [==============================] - 0s 14ms/step - loss: 548.8165 - val_loss: 764.4164\n",
      "Epoch 21/100\n",
      "8/8 [==============================] - 0s 11ms/step - loss: 464.7948 - val_loss: 722.9413\n",
      "Epoch 22/100\n",
      "8/8 [==============================] - 0s 10ms/step - loss: 444.9450 - val_loss: 680.3445\n",
      "Epoch 23/100\n",
      "8/8 [==============================] - 0s 9ms/step - loss: 468.1339 - val_loss: 629.9069\n",
      "Epoch 24/100\n",
      "8/8 [==============================] - 0s 9ms/step - loss: 412.6999 - val_loss: 584.4429\n",
      "Epoch 25/100\n",
      "8/8 [==============================] - 0s 30ms/step - loss: 394.2477 - val_loss: 574.2913\n",
      "Epoch 26/100\n",
      "8/8 [==============================] - 0s 19ms/step - loss: 314.4577 - val_loss: 545.1487\n",
      "Epoch 27/100\n",
      "8/8 [==============================] - 0s 26ms/step - loss: 342.8495 - val_loss: 503.6935\n",
      "Epoch 28/100\n",
      "8/8 [==============================] - 0s 13ms/step - loss: 326.0327 - val_loss: 459.2844\n",
      "Epoch 29/100\n",
      "8/8 [==============================] - 0s 39ms/step - loss: 346.1428 - val_loss: 436.5650\n",
      "Epoch 30/100\n",
      "8/8 [==============================] - 0s 10ms/step - loss: 320.1155 - val_loss: 412.9470\n",
      "Epoch 31/100\n",
      "8/8 [==============================] - 0s 9ms/step - loss: 251.8522 - val_loss: 392.9391\n",
      "Epoch 32/100\n",
      "8/8 [==============================] - 0s 22ms/step - loss: 273.1869 - val_loss: 379.8607\n",
      "Epoch 33/100\n",
      "8/8 [==============================] - 0s 13ms/step - loss: 262.9748 - val_loss: 373.6340\n",
      "Epoch 34/100\n",
      "8/8 [==============================] - 0s 20ms/step - loss: 266.2841 - val_loss: 368.7160\n",
      "Epoch 35/100\n",
      "8/8 [==============================] - 0s 16ms/step - loss: 275.7390 - val_loss: 342.9618\n",
      "Epoch 36/100\n",
      "8/8 [==============================] - 0s 15ms/step - loss: 257.5076 - val_loss: 327.6904\n",
      "Epoch 37/100\n",
      "8/8 [==============================] - 0s 10ms/step - loss: 244.4640 - val_loss: 319.2877\n",
      "Epoch 38/100\n",
      "8/8 [==============================] - 0s 11ms/step - loss: 238.6098 - val_loss: 300.9994\n",
      "Epoch 39/100\n",
      "8/8 [==============================] - 0s 10ms/step - loss: 254.0091 - val_loss: 294.5234\n",
      "Epoch 40/100\n",
      "8/8 [==============================] - 0s 11ms/step - loss: 223.7678 - val_loss: 294.6290\n",
      "Epoch 41/100\n",
      "8/8 [==============================] - 0s 10ms/step - loss: 206.7960 - val_loss: 280.6615\n",
      "Epoch 42/100\n",
      "8/8 [==============================] - 0s 10ms/step - loss: 210.1582 - val_loss: 276.6399\n",
      "Epoch 43/100\n",
      "8/8 [==============================] - 0s 13ms/step - loss: 234.6849 - val_loss: 274.5028\n",
      "Epoch 44/100\n",
      "8/8 [==============================] - 0s 31ms/step - loss: 196.6514 - val_loss: 264.6328\n",
      "Epoch 45/100\n",
      "8/8 [==============================] - 0s 17ms/step - loss: 193.2686 - val_loss: 258.1937\n",
      "Epoch 46/100\n",
      "8/8 [==============================] - 0s 15ms/step - loss: 184.0108 - val_loss: 257.9290\n",
      "Epoch 47/100\n",
      "8/8 [==============================] - 0s 12ms/step - loss: 182.6066 - val_loss: 252.9983\n",
      "Epoch 48/100\n",
      "8/8 [==============================] - 0s 10ms/step - loss: 181.8549 - val_loss: 257.9774\n",
      "Epoch 49/100\n",
      "8/8 [==============================] - 0s 9ms/step - loss: 203.2283 - val_loss: 238.3013\n",
      "Epoch 50/100\n",
      "8/8 [==============================] - 0s 7ms/step - loss: 168.0718 - val_loss: 228.2541\n",
      "Epoch 51/100\n",
      "8/8 [==============================] - 0s 9ms/step - loss: 170.9252 - val_loss: 225.9772\n",
      "Epoch 52/100\n",
      "8/8 [==============================] - 0s 10ms/step - loss: 180.3542 - val_loss: 222.0502\n",
      "Epoch 53/100\n",
      "8/8 [==============================] - 0s 10ms/step - loss: 176.4014 - val_loss: 214.1535\n",
      "Epoch 54/100\n",
      "8/8 [==============================] - 0s 11ms/step - loss: 162.6987 - val_loss: 210.5225\n",
      "Epoch 55/100\n",
      "8/8 [==============================] - 0s 7ms/step - loss: 155.7997 - val_loss: 208.4452\n",
      "Epoch 56/100\n",
      "8/8 [==============================] - 0s 9ms/step - loss: 139.3502 - val_loss: 212.3100\n",
      "Epoch 57/100\n",
      "8/8 [==============================] - 0s 10ms/step - loss: 185.5896 - val_loss: 198.6091\n",
      "Epoch 58/100\n",
      "8/8 [==============================] - 0s 12ms/step - loss: 151.1619 - val_loss: 196.0729\n",
      "Epoch 59/100\n",
      "8/8 [==============================] - 0s 12ms/step - loss: 146.7937 - val_loss: 185.1294\n",
      "Epoch 60/100\n",
      "8/8 [==============================] - 0s 13ms/step - loss: 171.4934 - val_loss: 176.9516\n",
      "Epoch 61/100\n",
      "8/8 [==============================] - 0s 9ms/step - loss: 145.8043 - val_loss: 176.9311\n",
      "Epoch 62/100\n",
      "8/8 [==============================] - 0s 18ms/step - loss: 167.0487 - val_loss: 173.2687\n",
      "Epoch 63/100\n",
      "8/8 [==============================] - 0s 10ms/step - loss: 139.1443 - val_loss: 171.0300\n",
      "Epoch 64/100\n",
      "8/8 [==============================] - 0s 10ms/step - loss: 148.9207 - val_loss: 171.1090\n",
      "Epoch 65/100\n",
      "8/8 [==============================] - 0s 11ms/step - loss: 179.4950 - val_loss: 220.3539\n",
      "Epoch 66/100\n",
      "8/8 [==============================] - 0s 12ms/step - loss: 199.5634 - val_loss: 173.5026\n",
      "Epoch 67/100\n",
      "8/8 [==============================] - 0s 11ms/step - loss: 148.4970 - val_loss: 193.7702\n",
      "Epoch 68/100\n",
      "8/8 [==============================] - 0s 9ms/step - loss: 172.6164 - val_loss: 162.0564\n",
      "Epoch 69/100\n",
      "8/8 [==============================] - 0s 10ms/step - loss: 157.9565 - val_loss: 178.2655\n",
      "Epoch 70/100\n",
      "8/8 [==============================] - 0s 15ms/step - loss: 144.4418 - val_loss: 167.3001\n",
      "Epoch 71/100\n",
      "8/8 [==============================] - 0s 10ms/step - loss: 143.9769 - val_loss: 162.6444\n",
      "Epoch 72/100\n",
      "8/8 [==============================] - 0s 10ms/step - loss: 152.4265 - val_loss: 156.6808\n",
      "Epoch 73/100\n",
      "8/8 [==============================] - 0s 10ms/step - loss: 146.4127 - val_loss: 157.5335\n",
      "Epoch 74/100\n",
      "8/8 [==============================] - 0s 12ms/step - loss: 148.1243 - val_loss: 152.9763\n",
      "Epoch 75/100\n",
      "8/8 [==============================] - 0s 10ms/step - loss: 124.7177 - val_loss: 159.0917\n",
      "Epoch 76/100\n",
      "8/8 [==============================] - 0s 11ms/step - loss: 138.3629 - val_loss: 159.9801\n",
      "Epoch 77/100\n",
      "8/8 [==============================] - 0s 12ms/step - loss: 127.4073 - val_loss: 157.3935\n",
      "Epoch 78/100\n",
      "8/8 [==============================] - 0s 11ms/step - loss: 149.7668 - val_loss: 154.8011\n",
      "Epoch 79/100\n",
      "8/8 [==============================] - 0s 12ms/step - loss: 143.1513 - val_loss: 150.6417\n",
      "Epoch 80/100\n",
      "8/8 [==============================] - 0s 15ms/step - loss: 135.8492 - val_loss: 151.6011\n",
      "Epoch 81/100\n",
      "8/8 [==============================] - 0s 16ms/step - loss: 137.5823 - val_loss: 149.9237\n",
      "Epoch 82/100\n",
      "8/8 [==============================] - 0s 25ms/step - loss: 154.6085 - val_loss: 188.6498\n",
      "Epoch 83/100\n",
      "8/8 [==============================] - 0s 16ms/step - loss: 149.7677 - val_loss: 157.4554\n",
      "Epoch 84/100\n",
      "8/8 [==============================] - 0s 23ms/step - loss: 149.8233 - val_loss: 170.5917\n",
      "Epoch 85/100\n",
      "8/8 [==============================] - 0s 15ms/step - loss: 165.6292 - val_loss: 168.0413\n",
      "Epoch 86/100\n",
      "8/8 [==============================] - 0s 10ms/step - loss: 141.8187 - val_loss: 158.2300\n"
     ]
    }
   ],
   "source": [
    "model = Sequential()\n",
    "\n",
    "\n",
    "model.add(BatchNormalization())\n",
    "\n",
    "\n",
    "model.add(Dense(64, kernel_regularizer=l2(0.01), activation=\"relu\", input_shape=(X_train_sc.shape[1],)))\n",
    "model.add(Dense(64, kernel_regularizer=l2(0.01), activation=\"relu\", input_shape=(X_train_sc.shape[1],)))\n",
    "model.add(Dropout(0.05))\n",
    "model.add(Dense(128, kernel_regularizer=l2(0.01), activation=\"relu\", input_shape=(X_train_sc.shape[1],)))\n",
    "model.add(Dropout(0.2))\n",
    "\n",
    "\n",
    "model.add(Dense(1, kernel_initializer='normal'))\n",
    "\n",
    "\n",
    "model.compile(loss='mean_squared_error', optimizer='adam')\n",
    "\n",
    "\n",
    "early_stop = EarlyStopping(patience=5)\n",
    "\n",
    "\n",
    "history = model.fit(X_train_sc, y_train,\n",
    "                   epochs=100,\n",
    "                   validation_data=(X_test_sc, y_test),\n",
    "                   callbacks = [early_stop])"
   ]
  },
  {
   "cell_type": "code",
   "execution_count": 299,
   "metadata": {},
   "outputs": [
    {
     "name": "stdout",
     "output_type": "stream",
     "text": [
      "Model: \"sequential_3\"\n",
      "_________________________________________________________________\n",
      "Layer (type)                 Output Shape              Param #   \n",
      "=================================================================\n",
      "batch_normalization_3 (Batch (None, 21)                84        \n",
      "_________________________________________________________________\n",
      "dense_12 (Dense)             (None, 64)                1408      \n",
      "_________________________________________________________________\n",
      "dense_13 (Dense)             (None, 64)                4160      \n",
      "_________________________________________________________________\n",
      "dropout_6 (Dropout)          (None, 64)                0         \n",
      "_________________________________________________________________\n",
      "dense_14 (Dense)             (None, 128)               8320      \n",
      "_________________________________________________________________\n",
      "dropout_7 (Dropout)          (None, 128)               0         \n",
      "_________________________________________________________________\n",
      "dense_15 (Dense)             (None, 1)                 129       \n",
      "=================================================================\n",
      "Total params: 14,101\n",
      "Trainable params: 14,059\n",
      "Non-trainable params: 42\n",
      "_________________________________________________________________\n"
     ]
    }
   ],
   "source": [
    "model.summary()"
   ]
  },
  {
   "cell_type": "code",
   "execution_count": 302,
   "metadata": {},
   "outputs": [
    {
     "name": "stdout",
     "output_type": "stream",
     "text": [
      "Neural Net model Test RMSE: 12.492042035297633\n"
     ]
    }
   ],
   "source": [
    "y_preds = model.predict(X_test_sc)\n",
    "#looking at our RMSE score for this question of best model\n",
    "print(f'Neural Net model Test RMSE: {np.sqrt(metrics.mean_squared_error(y_test, y_preds))}')"
   ]
  },
  {
   "cell_type": "code",
   "execution_count": 303,
   "metadata": {},
   "outputs": [
    {
     "data": {
      "text/plain": [
       "array([[ 88.51291 ],\n",
       "       [ 74.58269 ],\n",
       "       [ 73.92764 ],\n",
       "       [ 64.63246 ],\n",
       "       [ 80.860886],\n",
       "       [ 75.67685 ],\n",
       "       [ 81.586494],\n",
       "       [ 62.25392 ],\n",
       "       [ 78.13336 ],\n",
       "       [ 67.049644],\n",
       "       [111.513374],\n",
       "       [ 64.767296],\n",
       "       [ 78.42414 ],\n",
       "       [ 98.46448 ],\n",
       "       [ 67.31401 ],\n",
       "       [ 78.95346 ],\n",
       "       [ 83.11597 ],\n",
       "       [ 83.07031 ],\n",
       "       [ 84.511795],\n",
       "       [ 62.367588],\n",
       "       [ 67.70044 ],\n",
       "       [ 68.36766 ],\n",
       "       [ 89.25569 ],\n",
       "       [ 79.34595 ],\n",
       "       [ 61.260796],\n",
       "       [ 91.545494],\n",
       "       [ 78.345245],\n",
       "       [ 68.156494],\n",
       "       [ 74.21062 ],\n",
       "       [ 84.71857 ],\n",
       "       [ 68.53618 ],\n",
       "       [ 72.90519 ],\n",
       "       [ 66.334656],\n",
       "       [121.86804 ],\n",
       "       [ 82.56873 ],\n",
       "       [ 73.96861 ],\n",
       "       [ 98.67325 ],\n",
       "       [108.08586 ],\n",
       "       [ 85.98009 ],\n",
       "       [ 71.33304 ],\n",
       "       [ 73.0538  ],\n",
       "       [ 71.82733 ],\n",
       "       [ 70.153984],\n",
       "       [ 69.43558 ],\n",
       "       [ 80.67774 ],\n",
       "       [ 80.90561 ],\n",
       "       [ 75.61869 ],\n",
       "       [ 65.35672 ],\n",
       "       [ 70.57257 ],\n",
       "       [ 83.85536 ],\n",
       "       [ 86.16666 ],\n",
       "       [ 75.627975],\n",
       "       [ 67.93514 ],\n",
       "       [ 70.107346],\n",
       "       [ 78.93747 ],\n",
       "       [ 79.312195],\n",
       "       [ 66.68619 ],\n",
       "       [ 79.78245 ],\n",
       "       [ 80.110825],\n",
       "       [ 94.56973 ],\n",
       "       [108.90428 ],\n",
       "       [ 82.79813 ],\n",
       "       [ 79.293846],\n",
       "       [ 69.52606 ],\n",
       "       [ 87.985176],\n",
       "       [ 93.91632 ],\n",
       "       [ 79.243065],\n",
       "       [ 89.39029 ],\n",
       "       [ 73.395645],\n",
       "       [ 82.95012 ],\n",
       "       [ 62.508636],\n",
       "       [ 66.200134],\n",
       "       [ 97.91138 ],\n",
       "       [ 82.14698 ],\n",
       "       [ 90.33385 ]], dtype=float32)"
      ]
     },
     "execution_count": 303,
     "metadata": {},
     "output_type": "execute_result"
    }
   ],
   "source": [
    "y_preds #Make sure the predictions below are between 60-110.. (most common number of wins in a season)"
   ]
  },
  {
   "cell_type": "code",
   "execution_count": 304,
   "metadata": {},
   "outputs": [],
   "source": [
    "def rmse(regressor):  #created a function that lets you put in your type of regressor you want to use and it tells you the rmse score\n",
    "    steps = [\n",
    "        ('scaler', StandardScaler()),\n",
    "        ('regressor', regressor())\n",
    "    ]\n",
    "\n",
    "    pipe = Pipeline(steps = steps)\n",
    "\n",
    "    model = pipe.fit(X_train_sc, y_train)\n",
    "    \n",
    "    train_pred = model.predict(X_train_sc)    \n",
    "    print(f'train RMSE: {np.sqrt(mean_squared_error(y_train, train_pred))}')\n",
    "    test_pred = model.predict(X_test_sc)\n",
    "    print(f'test RMSE: {np.sqrt(mean_squared_error(y_test, test_pred))}')"
   ]
  },
  {
   "cell_type": "code",
   "execution_count": 305,
   "metadata": {},
   "outputs": [
    {
     "name": "stdout",
     "output_type": "stream",
     "text": [
      "train RMSE: 9.419272945888014\n",
      "test RMSE: 10.495933551860258\n"
     ]
    }
   ],
   "source": [
    "rmse(LinearRegression)"
   ]
  },
  {
   "cell_type": "code",
   "execution_count": 306,
   "metadata": {},
   "outputs": [
    {
     "name": "stdout",
     "output_type": "stream",
     "text": [
      "train RMSE: 8.716094946196439\n",
      "test RMSE: 10.886150222492185\n"
     ]
    }
   ],
   "source": [
    "rmse(KNeighborsRegressor)"
   ]
  },
  {
   "cell_type": "code",
   "execution_count": 307,
   "metadata": {},
   "outputs": [
    {
     "name": "stdout",
     "output_type": "stream",
     "text": [
      "train RMSE: 0.0\n",
      "test RMSE: 12.687001221722966\n"
     ]
    }
   ],
   "source": [
    "rmse(DecisionTreeRegressor)"
   ]
  },
  {
   "cell_type": "code",
   "execution_count": 308,
   "metadata": {},
   "outputs": [
    {
     "name": "stdout",
     "output_type": "stream",
     "text": [
      "train RMSE: 4.599425084846051\n",
      "test RMSE: 10.499479352171074\n"
     ]
    }
   ],
   "source": [
    "rmse(BaggingRegressor)"
   ]
  },
  {
   "cell_type": "code",
   "execution_count": 309,
   "metadata": {},
   "outputs": [
    {
     "name": "stdout",
     "output_type": "stream",
     "text": [
      "train RMSE: 3.8267005224983164\n",
      "test RMSE: 10.457392664203317\n"
     ]
    }
   ],
   "source": [
    "rmse(RandomForestRegressor)"
   ]
  },
  {
   "cell_type": "code",
   "execution_count": 310,
   "metadata": {},
   "outputs": [
    {
     "name": "stdout",
     "output_type": "stream",
     "text": [
      "train RMSE: 7.2539637105478825\n",
      "test RMSE: 10.286084906152114\n"
     ]
    }
   ],
   "source": [
    "rmse(AdaBoostRegressor)"
   ]
  },
  {
   "cell_type": "code",
   "execution_count": 311,
   "metadata": {},
   "outputs": [
    {
     "name": "stdout",
     "output_type": "stream",
     "text": [
      "train RMSE: 9.954837050368818\n",
      "test RMSE: 11.213255169484835\n"
     ]
    }
   ],
   "source": [
    "rmse(SVR)"
   ]
  },
  {
   "cell_type": "code",
   "execution_count": 312,
   "metadata": {},
   "outputs": [
    {
     "name": "stdout",
     "output_type": "stream",
     "text": [
      "train RMSE: 9.446427596649423\n",
      "test RMSE: 10.446166355843857\n"
     ]
    }
   ],
   "source": [
    "rmse(Ridge)"
   ]
  },
  {
   "cell_type": "code",
   "execution_count": 313,
   "metadata": {},
   "outputs": [
    {
     "name": "stdout",
     "output_type": "stream",
     "text": [
      "train RMSE: 3.3362020458573487\n",
      "test RMSE: 10.998659933939354\n"
     ]
    }
   ],
   "source": [
    "rmse(GradientBoostingRegressor)"
   ]
  },
  {
   "cell_type": "markdown",
   "metadata": {},
   "source": [
    "# Let's put our models into a pipeline, gridsearch the parameters:"
   ]
  },
  {
   "cell_type": "code",
   "execution_count": 71,
   "metadata": {},
   "outputs": [],
   "source": [
    "lr_pipeline = Pipeline([\n",
    "    (\"lr\", LinearRegression())\n",
    "    ])"
   ]
  },
  {
   "cell_type": "code",
   "execution_count": 72,
   "metadata": {},
   "outputs": [],
   "source": [
    "lr_parameters = {\n",
    "    'lr__fit_intercept':[True,False],\n",
    "    'lr__normalize' :[True,False],\n",
    "    'lr__copy_X' : [True,False]}"
   ]
  },
  {
   "cell_type": "code",
   "execution_count": 73,
   "metadata": {},
   "outputs": [
    {
     "name": "stdout",
     "output_type": "stream",
     "text": [
      "Best score: 10.486704256308988\n",
      "Best score: {'lr__copy_X': True, 'lr__fit_intercept': True, 'lr__normalize': True}\n"
     ]
    }
   ],
   "source": [
    "lr_gs = GridSearchCV(lr_pipeline, param_grid=lr_parameters, n_jobs = -1, scoring='neg_root_mean_squared_error')\n",
    "lr_gs.fit(X_train_sc, y_train)\n",
    "\n",
    "print(f\"Best score: {lr_gs.best_score_*-1}\")\n",
    "print(f\"Best score: {lr_gs.best_params_}\")"
   ]
  },
  {
   "cell_type": "markdown",
   "metadata": {},
   "source": [
    "----------------------------------------------------------------------------------------------------"
   ]
  },
  {
   "cell_type": "code",
   "execution_count": 79,
   "metadata": {},
   "outputs": [],
   "source": [
    "knr_pipeline = Pipeline([\n",
    "    (\"knr\", KNeighborsRegressor())\n",
    "    ])"
   ]
  },
  {
   "cell_type": "code",
   "execution_count": 80,
   "metadata": {},
   "outputs": [],
   "source": [
    "knr_parameters = {\n",
    "    'knr__n_neighbors':[5, 10 , 15, 20, 25, 27, 30, 35],\n",
    "    'knr__weights' :['uniform', 'distance']}"
   ]
  },
  {
   "cell_type": "code",
   "execution_count": 81,
   "metadata": {},
   "outputs": [
    {
     "name": "stdout",
     "output_type": "stream",
     "text": [
      "Best score: 10.087238923865195\n",
      "Best score: {'knr__n_neighbors': 20, 'knr__weights': 'uniform'}\n"
     ]
    }
   ],
   "source": [
    "knr_gs = GridSearchCV(knr_pipeline, param_grid=knr_parameters, n_jobs = -1, scoring='neg_root_mean_squared_error')\n",
    "knr_gs.fit(X_train_sc, y_train)\n",
    "\n",
    "print(f\"Best score: {knr_gs.best_score_*-1}\")\n",
    "print(f\"Best score: {knr_gs.best_params_}\")"
   ]
  },
  {
   "cell_type": "markdown",
   "metadata": {},
   "source": [
    "------------------------------"
   ]
  },
  {
   "cell_type": "code",
   "execution_count": 82,
   "metadata": {},
   "outputs": [],
   "source": [
    "dtr_pipeline = Pipeline([\n",
    "    (\"dtr\", DecisionTreeRegressor())\n",
    "    ])"
   ]
  },
  {
   "cell_type": "code",
   "execution_count": 87,
   "metadata": {},
   "outputs": [],
   "source": [
    "dtr_parameters = {\n",
    "    \"dtr__criterion\": [\"mse\", \"mae\"],\n",
    "\"dtr__min_samples_split\": [0, 1, 2, 3 , 4],\n",
    "\"dtr__min_samples_leaf\": [1, 5, 25, 30]}"
   ]
  },
  {
   "cell_type": "code",
   "execution_count": 88,
   "metadata": {},
   "outputs": [
    {
     "name": "stdout",
     "output_type": "stream",
     "text": [
      "Best score: 10.37480302413272\n",
      "Best parameters: {'dtr__criterion': 'mse', 'dtr__min_samples_leaf': 30, 'dtr__min_samples_split': 2}\n"
     ]
    }
   ],
   "source": [
    "dtr_gs = GridSearchCV(dtr_pipeline, param_grid=dtr_parameters, n_jobs = -1, scoring='neg_root_mean_squared_error')\n",
    "dtr_gs.fit(X_train_sc, y_train)\n",
    "\n",
    "print(f\"Best score: {dtr_gs.best_score_*-1}\")\n",
    "print(f\"Best parameters: {dtr_gs.best_params_}\")"
   ]
  },
  {
   "cell_type": "markdown",
   "metadata": {},
   "source": [
    "----------------------------------------------------------------------------------------------------"
   ]
  },
  {
   "cell_type": "code",
   "execution_count": 89,
   "metadata": {},
   "outputs": [],
   "source": [
    "br_pipeline = Pipeline([\n",
    "    (\"br\", BaggingRegressor())\n",
    "    ])"
   ]
  },
  {
   "cell_type": "code",
   "execution_count": 92,
   "metadata": {},
   "outputs": [],
   "source": [
    "br_parameters = {\n",
    "    \"br__max_samples\": [150, 160, 180, 100],\n",
    "    \"br__max_features\": [11, 13, 15, 17, 19, 21]}"
   ]
  },
  {
   "cell_type": "code",
   "execution_count": 93,
   "metadata": {},
   "outputs": [
    {
     "name": "stdout",
     "output_type": "stream",
     "text": [
      "Best score: 9.93221256155348\n",
      "Best parameters: {'br__max_features': 17, 'br__max_samples': 160}\n"
     ]
    }
   ],
   "source": [
    "br_gs = GridSearchCV(br_pipeline, param_grid=br_parameters, n_jobs = -1, scoring='neg_root_mean_squared_error')\n",
    "br_gs.fit(X_train_sc, y_train)\n",
    "\n",
    "print(f\"Best score: {br_gs.best_score_*-1}\")\n",
    "print(f\"Best parameters: {br_gs.best_params_}\")"
   ]
  },
  {
   "cell_type": "markdown",
   "metadata": {},
   "source": [
    "----------------------------------------------------------------------------------------------------"
   ]
  },
  {
   "cell_type": "code",
   "execution_count": 94,
   "metadata": {},
   "outputs": [],
   "source": [
    "rfr_pipeline = Pipeline([\n",
    "    (\"rfr\", RandomForestRegressor())\n",
    "    ])"
   ]
  },
  {
   "cell_type": "code",
   "execution_count": 95,
   "metadata": {},
   "outputs": [],
   "source": [
    "rfr_parameters = {\n",
    "    \"rfr__n_estimators\": [150, 175, 200, 225, 250]}"
   ]
  },
  {
   "cell_type": "code",
   "execution_count": 96,
   "metadata": {},
   "outputs": [
    {
     "name": "stdout",
     "output_type": "stream",
     "text": [
      "Best score: 10.017869042484898\n",
      "Best parameters: {'rfr__n_estimators': 175}\n"
     ]
    }
   ],
   "source": [
    "rfr_gs = GridSearchCV(rfr_pipeline, param_grid=rfr_parameters, n_jobs = -1, scoring='neg_root_mean_squared_error')\n",
    "rfr_gs.fit(X_train_sc, y_train)\n",
    "\n",
    "print(f\"Best score: {rfr_gs.best_score_*-1}\")\n",
    "print(f\"Best parameters: {rfr_gs.best_params_}\")"
   ]
  },
  {
   "cell_type": "markdown",
   "metadata": {},
   "source": [
    "----------------------------------------------------------------------------------------------------"
   ]
  },
  {
   "cell_type": "code",
   "execution_count": 97,
   "metadata": {},
   "outputs": [],
   "source": [
    "abr_pipeline = Pipeline([\n",
    "    (\"abr\", AdaBoostRegressor())\n",
    "    ])"
   ]
  },
  {
   "cell_type": "code",
   "execution_count": 98,
   "metadata": {},
   "outputs": [],
   "source": [
    "abr_parameters = {\n",
    "    \"abr__n_estimators\": [350, 375, 400, 325, 350],\n",
    "    \"abr__learning_rate\": [0, .5, 1.5, 2.0]}"
   ]
  },
  {
   "cell_type": "code",
   "execution_count": 99,
   "metadata": {},
   "outputs": [
    {
     "name": "stdout",
     "output_type": "stream",
     "text": [
      "Best score: 10.345948298546862\n",
      "Best parameters: {'abr__learning_rate': 0.5, 'abr__n_estimators': 400}\n"
     ]
    }
   ],
   "source": [
    "abr_gs = GridSearchCV(abr_pipeline, param_grid=abr_parameters, n_jobs = -1, scoring='neg_root_mean_squared_error')\n",
    "abr_gs.fit(X_train_sc, y_train)\n",
    "\n",
    "print(f\"Best score: {abr_gs.best_score_*-1}\")\n",
    "print(f\"Best parameters: {abr_gs.best_params_}\")"
   ]
  },
  {
   "cell_type": "markdown",
   "metadata": {},
   "source": [
    "----------------------------------------------------------------------------------------------------"
   ]
  },
  {
   "cell_type": "code",
   "execution_count": 100,
   "metadata": {},
   "outputs": [],
   "source": [
    "svr_pipeline = Pipeline([\n",
    "    (\"svr\", SVR())\n",
    "    ])"
   ]
  },
  {
   "cell_type": "code",
   "execution_count": 101,
   "metadata": {},
   "outputs": [],
   "source": [
    "svr_parameters = {\n",
    "    \"svr__degree\": [-2, -1, 0, .5, 1],\n",
    "    \"svr__max_iter\": [-3, -2, -1, 0, 1, 2, 3]}"
   ]
  },
  {
   "cell_type": "code",
   "execution_count": 102,
   "metadata": {},
   "outputs": [
    {
     "name": "stdout",
     "output_type": "stream",
     "text": [
      "Best score: 10.357041568890194\n",
      "Best parameters: {'svr__degree': 0, 'svr__max_iter': -1}\n"
     ]
    }
   ],
   "source": [
    "svr_gs = GridSearchCV(svr_pipeline, param_grid=svr_parameters, n_jobs = -1, scoring='neg_root_mean_squared_error')\n",
    "svr_gs.fit(X_train_sc, y_train)\n",
    "\n",
    "print(f\"Best score: {svr_gs.best_score_*-1}\")\n",
    "print(f\"Best parameters: {svr_gs.best_params_}\")"
   ]
  },
  {
   "cell_type": "markdown",
   "metadata": {},
   "source": [
    "----------------------------------------------------------------------------------------------------"
   ]
  },
  {
   "cell_type": "code",
   "execution_count": 103,
   "metadata": {},
   "outputs": [],
   "source": [
    "rid_pipeline = Pipeline([\n",
    "    (\"rid\", Ridge())\n",
    "    ])"
   ]
  },
  {
   "cell_type": "code",
   "execution_count": 104,
   "metadata": {},
   "outputs": [],
   "source": [
    "rid_parameters = {\n",
    "    'rid__alpha': np.logspace(0, 1000, 10),\n",
    "    'rid__fit_intercept': [True, False],\n",
    "    'rid__normalize': [True, False],\n",
    "    'rid__copy_X': [True, False],\n",
    "    'rid__tol': [.00001, .000001, .0000001, .00000001, .000000001],\n",
    "    'rid__solver': ['auto', 'svd’, ‘cholesky’, ‘lsqr’, ‘sparse_cg’, ‘sag’, ‘saga']}"
   ]
  },
  {
   "cell_type": "code",
   "execution_count": 105,
   "metadata": {},
   "outputs": [
    {
     "name": "stdout",
     "output_type": "stream",
     "text": [
      "Best score: 9.935812564675102\n",
      "Best parameters: {'rid__alpha': 1.0, 'rid__copy_X': True, 'rid__fit_intercept': True, 'rid__normalize': True, 'rid__solver': 'auto', 'rid__tol': 1e-05}\n"
     ]
    }
   ],
   "source": [
    "rid_gs = GridSearchCV(rid_pipeline, param_grid=rid_parameters, n_jobs = -1, scoring='neg_root_mean_squared_error')\n",
    "rid_gs.fit(X_train_sc, y_train)\n",
    "\n",
    "print(f\"Best score: {rid_gs.best_score_*-1}\")\n",
    "print(f\"Best parameters: {rid_gs.best_params_}\")"
   ]
  },
  {
   "cell_type": "markdown",
   "metadata": {},
   "source": [
    "----------------------------------------------------------------------------------------------------"
   ]
  },
  {
   "cell_type": "code",
   "execution_count": 106,
   "metadata": {},
   "outputs": [],
   "source": [
    "gbr_pipeline = Pipeline([\n",
    "    (\"gbr\", GradientBoostingRegressor())\n",
    "    ])"
   ]
  },
  {
   "cell_type": "code",
   "execution_count": 107,
   "metadata": {},
   "outputs": [],
   "source": [
    "gbr_parameters = {\n",
    "    'gbr__n_estimators': [250, 275, 300, 325, 350],\n",
    "    'gbr__subsample': [.25, .3, .4, .5, .6]}"
   ]
  },
  {
   "cell_type": "code",
   "execution_count": 108,
   "metadata": {},
   "outputs": [
    {
     "name": "stdout",
     "output_type": "stream",
     "text": [
      "Best score: 10.787132680072835\n",
      "Best parameters: {'gbr__n_estimators': 325, 'gbr__subsample': 0.6}\n"
     ]
    }
   ],
   "source": [
    "gbr_gs = GridSearchCV(gbr_pipeline, param_grid=gbr_parameters, n_jobs = -1, scoring='neg_root_mean_squared_error')\n",
    "gbr_gs.fit(X_train_sc, y_train)\n",
    "\n",
    "print(f\"Best score: {gbr_gs.best_score_*-1}\")\n",
    "print(f\"Best parameters: {gbr_gs.best_params_}\")"
   ]
  },
  {
   "cell_type": "markdown",
   "metadata": {},
   "source": [
    "--------------------------------------------------------------------------------------------------------"
   ]
  },
  {
   "cell_type": "markdown",
   "metadata": {},
   "source": [
    "#### Testing Time"
   ]
  },
  {
   "cell_type": "code",
   "execution_count": 314,
   "metadata": {},
   "outputs": [],
   "source": [
    "def specific(year): #function that will pull and clean mlb data/ doing this agin b/c we want the correct wins for that year\n",
    "    Teamdic = {'HOU':'Astros', 'LAD':'Dodgers', 'CHC':'Cubs', 'ARI':'Diamondbacks', 'MIL':'Brewers', 'TBR':'Rays',\n",
    "        'ATL':'Braves', 'BOS':'Red Sox', 'CLE': 'Indians','NYY':'Yankees','OAK': 'Athletics','STL':'Cardinals', \n",
    "        'SFG':'Giants','PIT':'Pirates', 'WSN': 'Nationals','NYM': 'Mets','SEA': 'Mariners','PHI':'Phillies','LAA':'Angels',\n",
    "        'COL':'Rockies', 'SDP':'Padres', 'MIN':'Twins', 'DET':'Tigers','CIN': 'Reds','MIA':'Marlins','FLA':'Marlins','CHW':'White Sox',\n",
    "        'TOR': 'Blue Jays', 'TEX':'Rangers', 'KCR' : 'Royals', 'BAL':'Orioles'} \n",
    "    hittingdata = pd.read_csv(f'data/{year}.csv') #read in yearly csvs\n",
    "    hittingdata.Team.replace(Teamdic, inplace=True)\n",
    "    hittingdata.sort_values(by = 'Team', inplace=True)\n",
    "    hittingdata.set_index('Team', inplace= True)\n",
    "    pitchingdata = pd.read_csv(f'data/{year}P.csv')\n",
    "    pitchingdata.Team.replace(Teamdic, inplace=True)\n",
    "    pitchingdata.sort_values(by = 'Team', inplace=True)\n",
    "    pitchingdata.set_index('Team', inplace= True)\n",
    "    pitchingdata.columns = pitchingdata.columns + './P'\n",
    "    pitchingdata.rename(columns={\"Team./P\": \"Team\"}, inplace = True)  \n",
    "    df_both = pd.merge(pitchingdata, hittingdata, on='Team', how = 'outer')\n",
    "    df_both.dropna(axis = 1, inplace=True)# remove nans\n",
    "    return df_both"
   ]
  },
  {
   "cell_type": "code",
   "execution_count": 315,
   "metadata": {},
   "outputs": [],
   "source": [
    "dfeighteen = specific(2018) #using 2018 stats to predict 2019 wins\n",
    "dfnineteen = specific(2019) #Only using wins from this to compare to projected wins"
   ]
  },
  {
   "cell_type": "code",
   "execution_count": 316,
   "metadata": {},
   "outputs": [],
   "source": [
    "X = dfeighteen[nicelist]\n",
    "y = dfnineteen['W./P'] \n",
    "ssX = ss.transform(X)"
   ]
  },
  {
   "cell_type": "code",
   "execution_count": 317,
   "metadata": {},
   "outputs": [
    {
     "name": "stdout",
     "output_type": "stream",
     "text": [
      "test RMSE: 8.014876576130929\n"
     ]
    }
   ],
   "source": [
    "#They all performed similarly until testing RMSE using the 2018 and 2019 data.. Then Random Forest was the best\n",
    "test_pred = rfr_gs.predict(ssX)\n",
    "print(f'test RMSE: {np.sqrt(mean_squared_error(y, test_pred))}')"
   ]
  },
  {
   "cell_type": "code",
   "execution_count": 318,
   "metadata": {},
   "outputs": [],
   "source": [
    "predictions = rfr_gs.predict(ssX)"
   ]
  },
  {
   "cell_type": "code",
   "execution_count": 319,
   "metadata": {},
   "outputs": [
    {
     "data": {
      "text/plain": [
       "array([ 77.19428571, 101.37142857,  93.98857143,  71.24      ,\n",
       "        88.18285714,  88.83428571,  84.51428571,  85.84571429,\n",
       "        82.52571429, 101.49142857,  74.96      ,  94.05714286,\n",
       "        71.68      ,  70.41714286,  83.42857143,  91.41714286,\n",
       "        63.34285714,  71.17142857,  79.64      ,  74.47428571,\n",
       "        74.21714286,  93.93142857,  92.26285714,  74.25142857,\n",
       "        73.54857143,  62.78285714,  68.94857143,  73.49714286,\n",
       "        72.32      ,  98.89714286])"
      ]
     },
     "execution_count": 319,
     "metadata": {},
     "output_type": "execute_result"
    }
   ],
   "source": [
    "predictions"
   ]
  },
  {
   "cell_type": "code",
   "execution_count": 320,
   "metadata": {},
   "outputs": [],
   "source": [
    "preddf = pd.DataFrame(predictions) #turn predictions into a dataframe"
   ]
  },
  {
   "cell_type": "code",
   "execution_count": 321,
   "metadata": {},
   "outputs": [],
   "source": [
    "preddf.index = dfeighteen.index  #put teams into new prediction dataframe"
   ]
  },
  {
   "cell_type": "code",
   "execution_count": 322,
   "metadata": {},
   "outputs": [],
   "source": [
    "preddf.columns = ['Projected_Wins']"
   ]
  },
  {
   "cell_type": "code",
   "execution_count": 323,
   "metadata": {},
   "outputs": [
    {
     "data": {
      "text/html": [
       "<div>\n",
       "<style scoped>\n",
       "    .dataframe tbody tr th:only-of-type {\n",
       "        vertical-align: middle;\n",
       "    }\n",
       "\n",
       "    .dataframe tbody tr th {\n",
       "        vertical-align: top;\n",
       "    }\n",
       "\n",
       "    .dataframe thead th {\n",
       "        text-align: right;\n",
       "    }\n",
       "</style>\n",
       "<table border=\"1\" class=\"dataframe\">\n",
       "  <thead>\n",
       "    <tr style=\"text-align: right;\">\n",
       "      <th></th>\n",
       "      <th>Projected_Wins</th>\n",
       "    </tr>\n",
       "    <tr>\n",
       "      <th>Team</th>\n",
       "      <th></th>\n",
       "    </tr>\n",
       "  </thead>\n",
       "  <tbody>\n",
       "    <tr>\n",
       "      <th>Angels</th>\n",
       "      <td>77.194286</td>\n",
       "    </tr>\n",
       "    <tr>\n",
       "      <th>Astros</th>\n",
       "      <td>101.371429</td>\n",
       "    </tr>\n",
       "    <tr>\n",
       "      <th>Athletics</th>\n",
       "      <td>93.988571</td>\n",
       "    </tr>\n",
       "    <tr>\n",
       "      <th>Blue Jays</th>\n",
       "      <td>71.240000</td>\n",
       "    </tr>\n",
       "    <tr>\n",
       "      <th>Braves</th>\n",
       "      <td>88.182857</td>\n",
       "    </tr>\n",
       "    <tr>\n",
       "      <th>Brewers</th>\n",
       "      <td>88.834286</td>\n",
       "    </tr>\n",
       "    <tr>\n",
       "      <th>Cardinals</th>\n",
       "      <td>84.514286</td>\n",
       "    </tr>\n",
       "    <tr>\n",
       "      <th>Cubs</th>\n",
       "      <td>85.845714</td>\n",
       "    </tr>\n",
       "    <tr>\n",
       "      <th>Diamondbacks</th>\n",
       "      <td>82.525714</td>\n",
       "    </tr>\n",
       "    <tr>\n",
       "      <th>Dodgers</th>\n",
       "      <td>101.491429</td>\n",
       "    </tr>\n",
       "    <tr>\n",
       "      <th>Giants</th>\n",
       "      <td>74.960000</td>\n",
       "    </tr>\n",
       "    <tr>\n",
       "      <th>Indians</th>\n",
       "      <td>94.057143</td>\n",
       "    </tr>\n",
       "    <tr>\n",
       "      <th>Mariners</th>\n",
       "      <td>71.680000</td>\n",
       "    </tr>\n",
       "    <tr>\n",
       "      <th>Marlins</th>\n",
       "      <td>70.417143</td>\n",
       "    </tr>\n",
       "    <tr>\n",
       "      <th>Mets</th>\n",
       "      <td>83.428571</td>\n",
       "    </tr>\n",
       "    <tr>\n",
       "      <th>Nationals</th>\n",
       "      <td>91.417143</td>\n",
       "    </tr>\n",
       "    <tr>\n",
       "      <th>Orioles</th>\n",
       "      <td>63.342857</td>\n",
       "    </tr>\n",
       "    <tr>\n",
       "      <th>Padres</th>\n",
       "      <td>71.171429</td>\n",
       "    </tr>\n",
       "    <tr>\n",
       "      <th>Phillies</th>\n",
       "      <td>79.640000</td>\n",
       "    </tr>\n",
       "    <tr>\n",
       "      <th>Pirates</th>\n",
       "      <td>74.474286</td>\n",
       "    </tr>\n",
       "    <tr>\n",
       "      <th>Rangers</th>\n",
       "      <td>74.217143</td>\n",
       "    </tr>\n",
       "    <tr>\n",
       "      <th>Rays</th>\n",
       "      <td>93.931429</td>\n",
       "    </tr>\n",
       "    <tr>\n",
       "      <th>Red Sox</th>\n",
       "      <td>92.262857</td>\n",
       "    </tr>\n",
       "    <tr>\n",
       "      <th>Reds</th>\n",
       "      <td>74.251429</td>\n",
       "    </tr>\n",
       "    <tr>\n",
       "      <th>Rockies</th>\n",
       "      <td>73.548571</td>\n",
       "    </tr>\n",
       "    <tr>\n",
       "      <th>Royals</th>\n",
       "      <td>62.782857</td>\n",
       "    </tr>\n",
       "    <tr>\n",
       "      <th>Tigers</th>\n",
       "      <td>68.948571</td>\n",
       "    </tr>\n",
       "    <tr>\n",
       "      <th>Twins</th>\n",
       "      <td>73.497143</td>\n",
       "    </tr>\n",
       "    <tr>\n",
       "      <th>White Sox</th>\n",
       "      <td>72.320000</td>\n",
       "    </tr>\n",
       "    <tr>\n",
       "      <th>Yankees</th>\n",
       "      <td>98.897143</td>\n",
       "    </tr>\n",
       "  </tbody>\n",
       "</table>\n",
       "</div>"
      ],
      "text/plain": [
       "              Projected_Wins\n",
       "Team                        \n",
       "Angels             77.194286\n",
       "Astros            101.371429\n",
       "Athletics          93.988571\n",
       "Blue Jays          71.240000\n",
       "Braves             88.182857\n",
       "Brewers            88.834286\n",
       "Cardinals          84.514286\n",
       "Cubs               85.845714\n",
       "Diamondbacks       82.525714\n",
       "Dodgers           101.491429\n",
       "Giants             74.960000\n",
       "Indians            94.057143\n",
       "Mariners           71.680000\n",
       "Marlins            70.417143\n",
       "Mets               83.428571\n",
       "Nationals          91.417143\n",
       "Orioles            63.342857\n",
       "Padres             71.171429\n",
       "Phillies           79.640000\n",
       "Pirates            74.474286\n",
       "Rangers            74.217143\n",
       "Rays               93.931429\n",
       "Red Sox            92.262857\n",
       "Reds               74.251429\n",
       "Rockies            73.548571\n",
       "Royals             62.782857\n",
       "Tigers             68.948571\n",
       "Twins              73.497143\n",
       "White Sox          72.320000\n",
       "Yankees            98.897143"
      ]
     },
     "execution_count": 323,
     "metadata": {},
     "output_type": "execute_result"
    }
   ],
   "source": [
    "preddf"
   ]
  },
  {
   "cell_type": "code",
   "execution_count": 324,
   "metadata": {},
   "outputs": [],
   "source": [
    "finaldf = dfnineteen.merge(preddf, on='Team')"
   ]
  },
  {
   "cell_type": "code",
   "execution_count": 325,
   "metadata": {},
   "outputs": [
    {
     "data": {
      "text/html": [
       "<div>\n",
       "<style scoped>\n",
       "    .dataframe tbody tr th:only-of-type {\n",
       "        vertical-align: middle;\n",
       "    }\n",
       "\n",
       "    .dataframe tbody tr th {\n",
       "        vertical-align: top;\n",
       "    }\n",
       "\n",
       "    .dataframe thead th {\n",
       "        text-align: right;\n",
       "    }\n",
       "</style>\n",
       "<table border=\"1\" class=\"dataframe\">\n",
       "  <thead>\n",
       "    <tr style=\"text-align: right;\">\n",
       "      <th></th>\n",
       "      <th>W./P</th>\n",
       "      <th>Projected_Wins</th>\n",
       "      <th>Projected_-_Actual</th>\n",
       "    </tr>\n",
       "    <tr>\n",
       "      <th>Team</th>\n",
       "      <th></th>\n",
       "      <th></th>\n",
       "      <th></th>\n",
       "    </tr>\n",
       "  </thead>\n",
       "  <tbody>\n",
       "    <tr>\n",
       "      <th>Angels</th>\n",
       "      <td>72</td>\n",
       "      <td>77.194286</td>\n",
       "      <td>5.194286</td>\n",
       "    </tr>\n",
       "    <tr>\n",
       "      <th>Astros</th>\n",
       "      <td>107</td>\n",
       "      <td>101.371429</td>\n",
       "      <td>-5.628571</td>\n",
       "    </tr>\n",
       "    <tr>\n",
       "      <th>Athletics</th>\n",
       "      <td>97</td>\n",
       "      <td>93.988571</td>\n",
       "      <td>-3.011429</td>\n",
       "    </tr>\n",
       "    <tr>\n",
       "      <th>Blue Jays</th>\n",
       "      <td>67</td>\n",
       "      <td>71.240000</td>\n",
       "      <td>4.240000</td>\n",
       "    </tr>\n",
       "    <tr>\n",
       "      <th>Braves</th>\n",
       "      <td>97</td>\n",
       "      <td>88.182857</td>\n",
       "      <td>-8.817143</td>\n",
       "    </tr>\n",
       "    <tr>\n",
       "      <th>Brewers</th>\n",
       "      <td>89</td>\n",
       "      <td>88.834286</td>\n",
       "      <td>-0.165714</td>\n",
       "    </tr>\n",
       "    <tr>\n",
       "      <th>Cardinals</th>\n",
       "      <td>91</td>\n",
       "      <td>84.514286</td>\n",
       "      <td>-6.485714</td>\n",
       "    </tr>\n",
       "    <tr>\n",
       "      <th>Cubs</th>\n",
       "      <td>84</td>\n",
       "      <td>85.845714</td>\n",
       "      <td>1.845714</td>\n",
       "    </tr>\n",
       "    <tr>\n",
       "      <th>Diamondbacks</th>\n",
       "      <td>85</td>\n",
       "      <td>82.525714</td>\n",
       "      <td>-2.474286</td>\n",
       "    </tr>\n",
       "    <tr>\n",
       "      <th>Dodgers</th>\n",
       "      <td>106</td>\n",
       "      <td>101.491429</td>\n",
       "      <td>-4.508571</td>\n",
       "    </tr>\n",
       "    <tr>\n",
       "      <th>Giants</th>\n",
       "      <td>77</td>\n",
       "      <td>74.960000</td>\n",
       "      <td>-2.040000</td>\n",
       "    </tr>\n",
       "    <tr>\n",
       "      <th>Indians</th>\n",
       "      <td>93</td>\n",
       "      <td>94.057143</td>\n",
       "      <td>1.057143</td>\n",
       "    </tr>\n",
       "    <tr>\n",
       "      <th>Mariners</th>\n",
       "      <td>68</td>\n",
       "      <td>71.680000</td>\n",
       "      <td>3.680000</td>\n",
       "    </tr>\n",
       "    <tr>\n",
       "      <th>Marlins</th>\n",
       "      <td>57</td>\n",
       "      <td>70.417143</td>\n",
       "      <td>13.417143</td>\n",
       "    </tr>\n",
       "    <tr>\n",
       "      <th>Mets</th>\n",
       "      <td>86</td>\n",
       "      <td>83.428571</td>\n",
       "      <td>-2.571429</td>\n",
       "    </tr>\n",
       "    <tr>\n",
       "      <th>Nationals</th>\n",
       "      <td>93</td>\n",
       "      <td>91.417143</td>\n",
       "      <td>-1.582857</td>\n",
       "    </tr>\n",
       "    <tr>\n",
       "      <th>Orioles</th>\n",
       "      <td>54</td>\n",
       "      <td>63.342857</td>\n",
       "      <td>9.342857</td>\n",
       "    </tr>\n",
       "    <tr>\n",
       "      <th>Padres</th>\n",
       "      <td>70</td>\n",
       "      <td>71.171429</td>\n",
       "      <td>1.171429</td>\n",
       "    </tr>\n",
       "    <tr>\n",
       "      <th>Phillies</th>\n",
       "      <td>81</td>\n",
       "      <td>79.640000</td>\n",
       "      <td>-1.360000</td>\n",
       "    </tr>\n",
       "    <tr>\n",
       "      <th>Pirates</th>\n",
       "      <td>69</td>\n",
       "      <td>74.474286</td>\n",
       "      <td>5.474286</td>\n",
       "    </tr>\n",
       "    <tr>\n",
       "      <th>Rangers</th>\n",
       "      <td>78</td>\n",
       "      <td>74.217143</td>\n",
       "      <td>-3.782857</td>\n",
       "    </tr>\n",
       "    <tr>\n",
       "      <th>Rays</th>\n",
       "      <td>96</td>\n",
       "      <td>93.931429</td>\n",
       "      <td>-2.068571</td>\n",
       "    </tr>\n",
       "    <tr>\n",
       "      <th>Red Sox</th>\n",
       "      <td>84</td>\n",
       "      <td>92.262857</td>\n",
       "      <td>8.262857</td>\n",
       "    </tr>\n",
       "    <tr>\n",
       "      <th>Reds</th>\n",
       "      <td>75</td>\n",
       "      <td>74.251429</td>\n",
       "      <td>-0.748571</td>\n",
       "    </tr>\n",
       "    <tr>\n",
       "      <th>Rockies</th>\n",
       "      <td>71</td>\n",
       "      <td>73.548571</td>\n",
       "      <td>2.548571</td>\n",
       "    </tr>\n",
       "    <tr>\n",
       "      <th>Royals</th>\n",
       "      <td>59</td>\n",
       "      <td>62.782857</td>\n",
       "      <td>3.782857</td>\n",
       "    </tr>\n",
       "    <tr>\n",
       "      <th>Tigers</th>\n",
       "      <td>47</td>\n",
       "      <td>68.948571</td>\n",
       "      <td>21.948571</td>\n",
       "    </tr>\n",
       "    <tr>\n",
       "      <th>Twins</th>\n",
       "      <td>101</td>\n",
       "      <td>73.497143</td>\n",
       "      <td>-27.502857</td>\n",
       "    </tr>\n",
       "    <tr>\n",
       "      <th>White Sox</th>\n",
       "      <td>72</td>\n",
       "      <td>72.320000</td>\n",
       "      <td>0.320000</td>\n",
       "    </tr>\n",
       "    <tr>\n",
       "      <th>Yankees</th>\n",
       "      <td>103</td>\n",
       "      <td>98.897143</td>\n",
       "      <td>-4.102857</td>\n",
       "    </tr>\n",
       "  </tbody>\n",
       "</table>\n",
       "</div>"
      ],
      "text/plain": [
       "              W./P  Projected_Wins  Projected_-_Actual\n",
       "Team                                                  \n",
       "Angels          72       77.194286            5.194286\n",
       "Astros         107      101.371429           -5.628571\n",
       "Athletics       97       93.988571           -3.011429\n",
       "Blue Jays       67       71.240000            4.240000\n",
       "Braves          97       88.182857           -8.817143\n",
       "Brewers         89       88.834286           -0.165714\n",
       "Cardinals       91       84.514286           -6.485714\n",
       "Cubs            84       85.845714            1.845714\n",
       "Diamondbacks    85       82.525714           -2.474286\n",
       "Dodgers        106      101.491429           -4.508571\n",
       "Giants          77       74.960000           -2.040000\n",
       "Indians         93       94.057143            1.057143\n",
       "Mariners        68       71.680000            3.680000\n",
       "Marlins         57       70.417143           13.417143\n",
       "Mets            86       83.428571           -2.571429\n",
       "Nationals       93       91.417143           -1.582857\n",
       "Orioles         54       63.342857            9.342857\n",
       "Padres          70       71.171429            1.171429\n",
       "Phillies        81       79.640000           -1.360000\n",
       "Pirates         69       74.474286            5.474286\n",
       "Rangers         78       74.217143           -3.782857\n",
       "Rays            96       93.931429           -2.068571\n",
       "Red Sox         84       92.262857            8.262857\n",
       "Reds            75       74.251429           -0.748571\n",
       "Rockies         71       73.548571            2.548571\n",
       "Royals          59       62.782857            3.782857\n",
       "Tigers          47       68.948571           21.948571\n",
       "Twins          101       73.497143          -27.502857\n",
       "White Sox       72       72.320000            0.320000\n",
       "Yankees        103       98.897143           -4.102857"
      ]
     },
     "execution_count": 325,
     "metadata": {},
     "output_type": "execute_result"
    }
   ],
   "source": [
    "finaldf['Projected_-_Actual'] = finaldf['Projected_Wins'] - finaldf['W./P']\n",
    "\n",
    "finaldf[['W./P', 'Projected_Wins', 'Projected_-_Actual']] #create a comparison between actual and predictions"
   ]
  },
  {
   "cell_type": "code",
   "execution_count": 326,
   "metadata": {},
   "outputs": [
    {
     "name": "stdout",
     "output_type": "stream",
     "text": [
      "The average difference between the Model Projections and the Actual Wins is 5.304571428571429\n"
     ]
    }
   ],
   "source": [
    "print(f'The average difference between the Model Projections and the Actual Wins is {(finaldf[\"Projected_-_Actual\"].abs().sum())/len(finaldf[\"Projected_-_Actual\"])}')"
   ]
  },
  {
   "cell_type": "markdown",
   "metadata": {},
   "source": [
    "---------------------------------------------------------------------"
   ]
  },
  {
   "cell_type": "markdown",
   "metadata": {},
   "source": [
    "### 2021 Projections"
   ]
  },
  {
   "cell_type": "code",
   "execution_count": 327,
   "metadata": {},
   "outputs": [],
   "source": [
    "dftwenty = specific(2020) #2020s Stats"
   ]
  },
  {
   "cell_type": "code",
   "execution_count": 328,
   "metadata": {},
   "outputs": [],
   "source": [
    "dftwenty.sort_values(by=['Team'], ascending = True, inplace= True)"
   ]
  },
  {
   "cell_type": "markdown",
   "metadata": {},
   "source": [
    "*2020 was a covid shortened year. We are going to convert the stats from 60 games to 162 games. Some stats we will use from the 2019 season due to the small sample size.*"
   ]
  },
  {
   "cell_type": "code",
   "execution_count": 330,
   "metadata": {},
   "outputs": [],
   "source": [
    "dftwenty['SV./P'] = dftwenty['SV./P']*162/ 60 #Convert 60 game season to 162 games"
   ]
  },
  {
   "cell_type": "code",
   "execution_count": 331,
   "metadata": {},
   "outputs": [],
   "source": [
    "dftwenty['WAR./P'] = dftwenty['WAR./P']*162/ 60  #Convert 60 game season to 162 games"
   ]
  },
  {
   "cell_type": "code",
   "execution_count": 332,
   "metadata": {},
   "outputs": [],
   "source": [
    "dftwenty['H./P'] = dftwenty['H./P']*162/ 60  #Convert 60 game season to 162 games"
   ]
  },
  {
   "cell_type": "code",
   "execution_count": 333,
   "metadata": {},
   "outputs": [],
   "source": [
    "dftwenty['R./P'] = dftwenty['R./P']*162/ 60  #Convert 60 game season to 162 games"
   ]
  },
  {
   "cell_type": "code",
   "execution_count": 334,
   "metadata": {},
   "outputs": [],
   "source": [
    "dftwenty['WPA./P'] = dfnineteen['WPA./P'] #Use 2019's stat "
   ]
  },
  {
   "cell_type": "code",
   "execution_count": 335,
   "metadata": {},
   "outputs": [],
   "source": [
    "dftwenty['REW./P'] = dfnineteen['REW./P'] #Use 2019's stat"
   ]
  },
  {
   "cell_type": "code",
   "execution_count": 336,
   "metadata": {},
   "outputs": [],
   "source": [
    "dftwenty['WPA/LI./P'] = dfnineteen['WPA/LI./P'] #Use 2019's stat"
   ]
  },
  {
   "cell_type": "code",
   "execution_count": 337,
   "metadata": {},
   "outputs": [],
   "source": [
    "dftwenty['R'] = dfnineteen['R']*162/ 60 #Convert 60 game season to 162 games"
   ]
  },
  {
   "cell_type": "code",
   "execution_count": 338,
   "metadata": {},
   "outputs": [],
   "source": [
    "dftwenty['RBI'] = dftwenty['RBI']*162/ 60 #Convert 60 game season to 162 games"
   ]
  },
  {
   "cell_type": "code",
   "execution_count": 339,
   "metadata": {},
   "outputs": [],
   "source": [
    "dftwenty['WAR']= dftwenty['WAR']*162/ 60 #Convert 60 game season to 162 games"
   ]
  },
  {
   "cell_type": "code",
   "execution_count": 340,
   "metadata": {},
   "outputs": [],
   "source": [
    "dftwenty['WPA'] = dfnineteen['WPA'] #Use 2019's stat\n",
    "dftwenty['REW'] = dfnineteen['REW'] #Use 2019's stat\n",
    "dftwenty['WPA/LI'] = dfnineteen['WPA/LI'] #Use 2019's stat"
   ]
  },
  {
   "cell_type": "code",
   "execution_count": 341,
   "metadata": {},
   "outputs": [],
   "source": [
    "dftwenty['W./P'] = dftwenty['W./P']*162/ 60 #Convert 60 game season to 162 games"
   ]
  },
  {
   "cell_type": "code",
   "execution_count": 342,
   "metadata": {},
   "outputs": [],
   "source": [
    "X = dftwenty[nicelist] #2020s stats altered a bit\n",
    "ssX = ss.transform(X)"
   ]
  },
  {
   "cell_type": "code",
   "execution_count": 343,
   "metadata": {},
   "outputs": [],
   "source": [
    "predictions = rid_gs.predict(ssX)"
   ]
  },
  {
   "cell_type": "code",
   "execution_count": 344,
   "metadata": {},
   "outputs": [
    {
     "data": {
      "text/plain": [
       "array([[80.98588172],\n",
       "       [86.69352775],\n",
       "       [88.25432108],\n",
       "       [76.33792043],\n",
       "       [88.53434885],\n",
       "       [84.57023899],\n",
       "       [83.65907088],\n",
       "       [84.6589174 ],\n",
       "       [76.21660703],\n",
       "       [98.88698208],\n",
       "       [81.3547757 ],\n",
       "       [88.15908236],\n",
       "       [74.54547062],\n",
       "       [70.79586826],\n",
       "       [86.26937817],\n",
       "       [80.25474046],\n",
       "       [76.70536698],\n",
       "       [87.74816127],\n",
       "       [80.92766746],\n",
       "       [71.42257233],\n",
       "       [70.32494041],\n",
       "       [89.12736128],\n",
       "       [76.5947749 ],\n",
       "       [84.05010824],\n",
       "       [68.90541195],\n",
       "       [74.73958703],\n",
       "       [67.51605373],\n",
       "       [90.9575739 ],\n",
       "       [85.07844733],\n",
       "       [91.41402539]])"
      ]
     },
     "execution_count": 344,
     "metadata": {},
     "output_type": "execute_result"
    }
   ],
   "source": [
    "predictions"
   ]
  },
  {
   "cell_type": "code",
   "execution_count": 345,
   "metadata": {},
   "outputs": [],
   "source": [
    "preddf = pd.DataFrame(predictions) #put predictions into dataframe"
   ]
  },
  {
   "cell_type": "code",
   "execution_count": 346,
   "metadata": {},
   "outputs": [],
   "source": [
    "preddf.index = dftwenty.index #create an index with team names"
   ]
  },
  {
   "cell_type": "code",
   "execution_count": 347,
   "metadata": {},
   "outputs": [],
   "source": [
    "preddf.columns = ['Projected_Wins'] #create column"
   ]
  },
  {
   "cell_type": "code",
   "execution_count": 348,
   "metadata": {},
   "outputs": [
    {
     "data": {
      "text/html": [
       "<div>\n",
       "<style scoped>\n",
       "    .dataframe tbody tr th:only-of-type {\n",
       "        vertical-align: middle;\n",
       "    }\n",
       "\n",
       "    .dataframe tbody tr th {\n",
       "        vertical-align: top;\n",
       "    }\n",
       "\n",
       "    .dataframe thead th {\n",
       "        text-align: right;\n",
       "    }\n",
       "</style>\n",
       "<table border=\"1\" class=\"dataframe\">\n",
       "  <thead>\n",
       "    <tr style=\"text-align: right;\">\n",
       "      <th></th>\n",
       "      <th>Projected_Wins</th>\n",
       "    </tr>\n",
       "    <tr>\n",
       "      <th>Team</th>\n",
       "      <th></th>\n",
       "    </tr>\n",
       "  </thead>\n",
       "  <tbody>\n",
       "    <tr>\n",
       "      <th>Angels</th>\n",
       "      <td>80.985882</td>\n",
       "    </tr>\n",
       "    <tr>\n",
       "      <th>Astros</th>\n",
       "      <td>86.693528</td>\n",
       "    </tr>\n",
       "    <tr>\n",
       "      <th>Athletics</th>\n",
       "      <td>88.254321</td>\n",
       "    </tr>\n",
       "    <tr>\n",
       "      <th>Blue Jays</th>\n",
       "      <td>76.337920</td>\n",
       "    </tr>\n",
       "    <tr>\n",
       "      <th>Braves</th>\n",
       "      <td>88.534349</td>\n",
       "    </tr>\n",
       "    <tr>\n",
       "      <th>Brewers</th>\n",
       "      <td>84.570239</td>\n",
       "    </tr>\n",
       "    <tr>\n",
       "      <th>Cardinals</th>\n",
       "      <td>83.659071</td>\n",
       "    </tr>\n",
       "    <tr>\n",
       "      <th>Cubs</th>\n",
       "      <td>84.658917</td>\n",
       "    </tr>\n",
       "    <tr>\n",
       "      <th>Diamondbacks</th>\n",
       "      <td>76.216607</td>\n",
       "    </tr>\n",
       "    <tr>\n",
       "      <th>Dodgers</th>\n",
       "      <td>98.886982</td>\n",
       "    </tr>\n",
       "    <tr>\n",
       "      <th>Giants</th>\n",
       "      <td>81.354776</td>\n",
       "    </tr>\n",
       "    <tr>\n",
       "      <th>Indians</th>\n",
       "      <td>88.159082</td>\n",
       "    </tr>\n",
       "    <tr>\n",
       "      <th>Mariners</th>\n",
       "      <td>74.545471</td>\n",
       "    </tr>\n",
       "    <tr>\n",
       "      <th>Marlins</th>\n",
       "      <td>70.795868</td>\n",
       "    </tr>\n",
       "    <tr>\n",
       "      <th>Mets</th>\n",
       "      <td>86.269378</td>\n",
       "    </tr>\n",
       "    <tr>\n",
       "      <th>Nationals</th>\n",
       "      <td>80.254740</td>\n",
       "    </tr>\n",
       "    <tr>\n",
       "      <th>Orioles</th>\n",
       "      <td>76.705367</td>\n",
       "    </tr>\n",
       "    <tr>\n",
       "      <th>Padres</th>\n",
       "      <td>87.748161</td>\n",
       "    </tr>\n",
       "    <tr>\n",
       "      <th>Phillies</th>\n",
       "      <td>80.927667</td>\n",
       "    </tr>\n",
       "    <tr>\n",
       "      <th>Pirates</th>\n",
       "      <td>71.422572</td>\n",
       "    </tr>\n",
       "    <tr>\n",
       "      <th>Rangers</th>\n",
       "      <td>70.324940</td>\n",
       "    </tr>\n",
       "    <tr>\n",
       "      <th>Rays</th>\n",
       "      <td>89.127361</td>\n",
       "    </tr>\n",
       "    <tr>\n",
       "      <th>Red Sox</th>\n",
       "      <td>76.594775</td>\n",
       "    </tr>\n",
       "    <tr>\n",
       "      <th>Reds</th>\n",
       "      <td>84.050108</td>\n",
       "    </tr>\n",
       "    <tr>\n",
       "      <th>Rockies</th>\n",
       "      <td>68.905412</td>\n",
       "    </tr>\n",
       "    <tr>\n",
       "      <th>Royals</th>\n",
       "      <td>74.739587</td>\n",
       "    </tr>\n",
       "    <tr>\n",
       "      <th>Tigers</th>\n",
       "      <td>67.516054</td>\n",
       "    </tr>\n",
       "    <tr>\n",
       "      <th>Twins</th>\n",
       "      <td>90.957574</td>\n",
       "    </tr>\n",
       "    <tr>\n",
       "      <th>White Sox</th>\n",
       "      <td>85.078447</td>\n",
       "    </tr>\n",
       "    <tr>\n",
       "      <th>Yankees</th>\n",
       "      <td>91.414025</td>\n",
       "    </tr>\n",
       "  </tbody>\n",
       "</table>\n",
       "</div>"
      ],
      "text/plain": [
       "              Projected_Wins\n",
       "Team                        \n",
       "Angels             80.985882\n",
       "Astros             86.693528\n",
       "Athletics          88.254321\n",
       "Blue Jays          76.337920\n",
       "Braves             88.534349\n",
       "Brewers            84.570239\n",
       "Cardinals          83.659071\n",
       "Cubs               84.658917\n",
       "Diamondbacks       76.216607\n",
       "Dodgers            98.886982\n",
       "Giants             81.354776\n",
       "Indians            88.159082\n",
       "Mariners           74.545471\n",
       "Marlins            70.795868\n",
       "Mets               86.269378\n",
       "Nationals          80.254740\n",
       "Orioles            76.705367\n",
       "Padres             87.748161\n",
       "Phillies           80.927667\n",
       "Pirates            71.422572\n",
       "Rangers            70.324940\n",
       "Rays               89.127361\n",
       "Red Sox            76.594775\n",
       "Reds               84.050108\n",
       "Rockies            68.905412\n",
       "Royals             74.739587\n",
       "Tigers             67.516054\n",
       "Twins              90.957574\n",
       "White Sox          85.078447\n",
       "Yankees            91.414025"
      ]
     },
     "execution_count": 348,
     "metadata": {},
     "output_type": "execute_result"
    }
   ],
   "source": [
    "preddf"
   ]
  },
  {
   "cell_type": "code",
   "execution_count": 349,
   "metadata": {},
   "outputs": [],
   "source": [
    "def round_of_rating(number): #round win to the nearest .5/.0\n",
    "\n",
    "    return round(number * 2) / 2 "
   ]
  },
  {
   "cell_type": "code",
   "execution_count": 350,
   "metadata": {},
   "outputs": [],
   "source": [
    "proj = round_of_rating(preddf['Projected_Wins'])\n",
    "proj = pd.DataFrame(proj)"
   ]
  },
  {
   "cell_type": "code",
   "execution_count": 352,
   "metadata": {},
   "outputs": [
    {
     "data": {
      "text/html": [
       "<div>\n",
       "<style scoped>\n",
       "    .dataframe tbody tr th:only-of-type {\n",
       "        vertical-align: middle;\n",
       "    }\n",
       "\n",
       "    .dataframe tbody tr th {\n",
       "        vertical-align: top;\n",
       "    }\n",
       "\n",
       "    .dataframe thead th {\n",
       "        text-align: right;\n",
       "    }\n",
       "</style>\n",
       "<table border=\"1\" class=\"dataframe\">\n",
       "  <thead>\n",
       "    <tr style=\"text-align: right;\">\n",
       "      <th></th>\n",
       "      <th>Projected_Wins</th>\n",
       "    </tr>\n",
       "    <tr>\n",
       "      <th>Team</th>\n",
       "      <th></th>\n",
       "    </tr>\n",
       "  </thead>\n",
       "  <tbody>\n",
       "    <tr>\n",
       "      <th>Yankees</th>\n",
       "      <td>91.5</td>\n",
       "    </tr>\n",
       "    <tr>\n",
       "      <th>Rays</th>\n",
       "      <td>89.0</td>\n",
       "    </tr>\n",
       "    <tr>\n",
       "      <th>Blue Jays</th>\n",
       "      <td>76.5</td>\n",
       "    </tr>\n",
       "    <tr>\n",
       "      <th>Orioles</th>\n",
       "      <td>76.5</td>\n",
       "    </tr>\n",
       "    <tr>\n",
       "      <th>Red Sox</th>\n",
       "      <td>76.5</td>\n",
       "    </tr>\n",
       "  </tbody>\n",
       "</table>\n",
       "</div>"
      ],
      "text/plain": [
       "           Projected_Wins\n",
       "Team                     \n",
       "Yankees              91.5\n",
       "Rays                 89.0\n",
       "Blue Jays            76.5\n",
       "Orioles              76.5\n",
       "Red Sox              76.5"
      ]
     },
     "execution_count": 352,
     "metadata": {},
     "output_type": "execute_result"
    }
   ],
   "source": [
    "AlEast = proj.iloc[[21, 29, 3, 16, 22]].sort_values(by=['Projected_Wins'], ascending = False) \n",
    "AlEast"
   ]
  },
  {
   "cell_type": "code",
   "execution_count": 353,
   "metadata": {},
   "outputs": [
    {
     "data": {
      "text/html": [
       "<div>\n",
       "<style scoped>\n",
       "    .dataframe tbody tr th:only-of-type {\n",
       "        vertical-align: middle;\n",
       "    }\n",
       "\n",
       "    .dataframe tbody tr th {\n",
       "        vertical-align: top;\n",
       "    }\n",
       "\n",
       "    .dataframe thead th {\n",
       "        text-align: right;\n",
       "    }\n",
       "</style>\n",
       "<table border=\"1\" class=\"dataframe\">\n",
       "  <thead>\n",
       "    <tr style=\"text-align: right;\">\n",
       "      <th></th>\n",
       "      <th>Projected_Wins</th>\n",
       "    </tr>\n",
       "    <tr>\n",
       "      <th>Team</th>\n",
       "      <th></th>\n",
       "    </tr>\n",
       "  </thead>\n",
       "  <tbody>\n",
       "    <tr>\n",
       "      <th>Twins</th>\n",
       "      <td>91.0</td>\n",
       "    </tr>\n",
       "    <tr>\n",
       "      <th>Indians</th>\n",
       "      <td>88.0</td>\n",
       "    </tr>\n",
       "    <tr>\n",
       "      <th>White Sox</th>\n",
       "      <td>85.0</td>\n",
       "    </tr>\n",
       "    <tr>\n",
       "      <th>Royals</th>\n",
       "      <td>74.5</td>\n",
       "    </tr>\n",
       "    <tr>\n",
       "      <th>Tigers</th>\n",
       "      <td>67.5</td>\n",
       "    </tr>\n",
       "  </tbody>\n",
       "</table>\n",
       "</div>"
      ],
      "text/plain": [
       "           Projected_Wins\n",
       "Team                     \n",
       "Twins                91.0\n",
       "Indians              88.0\n",
       "White Sox            85.0\n",
       "Royals               74.5\n",
       "Tigers               67.5"
      ]
     },
     "execution_count": 353,
     "metadata": {},
     "output_type": "execute_result"
    }
   ],
   "source": [
    "AlCentral = proj.iloc[[27, 11, 28, 25, 26]].sort_values(by=['Projected_Wins'], ascending = False)  \n",
    "AlCentral"
   ]
  },
  {
   "cell_type": "code",
   "execution_count": 354,
   "metadata": {},
   "outputs": [
    {
     "data": {
      "text/html": [
       "<div>\n",
       "<style scoped>\n",
       "    .dataframe tbody tr th:only-of-type {\n",
       "        vertical-align: middle;\n",
       "    }\n",
       "\n",
       "    .dataframe tbody tr th {\n",
       "        vertical-align: top;\n",
       "    }\n",
       "\n",
       "    .dataframe thead th {\n",
       "        text-align: right;\n",
       "    }\n",
       "</style>\n",
       "<table border=\"1\" class=\"dataframe\">\n",
       "  <thead>\n",
       "    <tr style=\"text-align: right;\">\n",
       "      <th></th>\n",
       "      <th>Projected_Wins</th>\n",
       "    </tr>\n",
       "    <tr>\n",
       "      <th>Team</th>\n",
       "      <th></th>\n",
       "    </tr>\n",
       "  </thead>\n",
       "  <tbody>\n",
       "    <tr>\n",
       "      <th>Athletics</th>\n",
       "      <td>88.5</td>\n",
       "    </tr>\n",
       "    <tr>\n",
       "      <th>Astros</th>\n",
       "      <td>86.5</td>\n",
       "    </tr>\n",
       "    <tr>\n",
       "      <th>Angels</th>\n",
       "      <td>81.0</td>\n",
       "    </tr>\n",
       "    <tr>\n",
       "      <th>Mariners</th>\n",
       "      <td>74.5</td>\n",
       "    </tr>\n",
       "    <tr>\n",
       "      <th>Rangers</th>\n",
       "      <td>70.5</td>\n",
       "    </tr>\n",
       "  </tbody>\n",
       "</table>\n",
       "</div>"
      ],
      "text/plain": [
       "           Projected_Wins\n",
       "Team                     \n",
       "Athletics            88.5\n",
       "Astros               86.5\n",
       "Angels               81.0\n",
       "Mariners             74.5\n",
       "Rangers              70.5"
      ]
     },
     "execution_count": 354,
     "metadata": {},
     "output_type": "execute_result"
    }
   ],
   "source": [
    "AlWest = proj.iloc[[2, 1, 12, 0, 20]].sort_values(by=['Projected_Wins'], ascending = False)  \n",
    "AlWest"
   ]
  },
  {
   "cell_type": "code",
   "execution_count": 355,
   "metadata": {},
   "outputs": [
    {
     "data": {
      "text/html": [
       "<div>\n",
       "<style scoped>\n",
       "    .dataframe tbody tr th:only-of-type {\n",
       "        vertical-align: middle;\n",
       "    }\n",
       "\n",
       "    .dataframe tbody tr th {\n",
       "        vertical-align: top;\n",
       "    }\n",
       "\n",
       "    .dataframe thead th {\n",
       "        text-align: right;\n",
       "    }\n",
       "</style>\n",
       "<table border=\"1\" class=\"dataframe\">\n",
       "  <thead>\n",
       "    <tr style=\"text-align: right;\">\n",
       "      <th></th>\n",
       "      <th>Projected_Wins</th>\n",
       "    </tr>\n",
       "    <tr>\n",
       "      <th>Team</th>\n",
       "      <th></th>\n",
       "    </tr>\n",
       "  </thead>\n",
       "  <tbody>\n",
       "    <tr>\n",
       "      <th>Braves</th>\n",
       "      <td>88.5</td>\n",
       "    </tr>\n",
       "    <tr>\n",
       "      <th>Mets</th>\n",
       "      <td>86.5</td>\n",
       "    </tr>\n",
       "    <tr>\n",
       "      <th>Phillies</th>\n",
       "      <td>81.0</td>\n",
       "    </tr>\n",
       "    <tr>\n",
       "      <th>Nationals</th>\n",
       "      <td>80.5</td>\n",
       "    </tr>\n",
       "    <tr>\n",
       "      <th>Marlins</th>\n",
       "      <td>71.0</td>\n",
       "    </tr>\n",
       "  </tbody>\n",
       "</table>\n",
       "</div>"
      ],
      "text/plain": [
       "           Projected_Wins\n",
       "Team                     \n",
       "Braves               88.5\n",
       "Mets                 86.5\n",
       "Phillies             81.0\n",
       "Nationals            80.5\n",
       "Marlins              71.0"
      ]
     },
     "execution_count": 355,
     "metadata": {},
     "output_type": "execute_result"
    }
   ],
   "source": [
    "NlEast = proj.iloc[[4, 13, 18, 14, 15]].sort_values(by=['Projected_Wins'], ascending = False)  \n",
    "NlEast"
   ]
  },
  {
   "cell_type": "code",
   "execution_count": 356,
   "metadata": {},
   "outputs": [
    {
     "data": {
      "text/html": [
       "<div>\n",
       "<style scoped>\n",
       "    .dataframe tbody tr th:only-of-type {\n",
       "        vertical-align: middle;\n",
       "    }\n",
       "\n",
       "    .dataframe tbody tr th {\n",
       "        vertical-align: top;\n",
       "    }\n",
       "\n",
       "    .dataframe thead th {\n",
       "        text-align: right;\n",
       "    }\n",
       "</style>\n",
       "<table border=\"1\" class=\"dataframe\">\n",
       "  <thead>\n",
       "    <tr style=\"text-align: right;\">\n",
       "      <th></th>\n",
       "      <th>Projected_Wins</th>\n",
       "    </tr>\n",
       "    <tr>\n",
       "      <th>Team</th>\n",
       "      <th></th>\n",
       "    </tr>\n",
       "  </thead>\n",
       "  <tbody>\n",
       "    <tr>\n",
       "      <th>Cubs</th>\n",
       "      <td>84.5</td>\n",
       "    </tr>\n",
       "    <tr>\n",
       "      <th>Brewers</th>\n",
       "      <td>84.5</td>\n",
       "    </tr>\n",
       "    <tr>\n",
       "      <th>Reds</th>\n",
       "      <td>84.0</td>\n",
       "    </tr>\n",
       "    <tr>\n",
       "      <th>Cardinals</th>\n",
       "      <td>83.5</td>\n",
       "    </tr>\n",
       "    <tr>\n",
       "      <th>Pirates</th>\n",
       "      <td>71.5</td>\n",
       "    </tr>\n",
       "  </tbody>\n",
       "</table>\n",
       "</div>"
      ],
      "text/plain": [
       "           Projected_Wins\n",
       "Team                     \n",
       "Cubs                 84.5\n",
       "Brewers              84.5\n",
       "Reds                 84.0\n",
       "Cardinals            83.5\n",
       "Pirates              71.5"
      ]
     },
     "execution_count": 356,
     "metadata": {},
     "output_type": "execute_result"
    }
   ],
   "source": [
    "NlCentral = proj.iloc[[7, 6, 23, 5, 19]].sort_values(by=['Projected_Wins'], ascending = False)  \n",
    "NlCentral"
   ]
  },
  {
   "cell_type": "code",
   "execution_count": 357,
   "metadata": {},
   "outputs": [
    {
     "data": {
      "text/html": [
       "<div>\n",
       "<style scoped>\n",
       "    .dataframe tbody tr th:only-of-type {\n",
       "        vertical-align: middle;\n",
       "    }\n",
       "\n",
       "    .dataframe tbody tr th {\n",
       "        vertical-align: top;\n",
       "    }\n",
       "\n",
       "    .dataframe thead th {\n",
       "        text-align: right;\n",
       "    }\n",
       "</style>\n",
       "<table border=\"1\" class=\"dataframe\">\n",
       "  <thead>\n",
       "    <tr style=\"text-align: right;\">\n",
       "      <th></th>\n",
       "      <th>Projected_Wins</th>\n",
       "    </tr>\n",
       "    <tr>\n",
       "      <th>Team</th>\n",
       "      <th></th>\n",
       "    </tr>\n",
       "  </thead>\n",
       "  <tbody>\n",
       "    <tr>\n",
       "      <th>Dodgers</th>\n",
       "      <td>99.0</td>\n",
       "    </tr>\n",
       "    <tr>\n",
       "      <th>Padres</th>\n",
       "      <td>87.5</td>\n",
       "    </tr>\n",
       "    <tr>\n",
       "      <th>Giants</th>\n",
       "      <td>81.5</td>\n",
       "    </tr>\n",
       "    <tr>\n",
       "      <th>Diamondbacks</th>\n",
       "      <td>76.0</td>\n",
       "    </tr>\n",
       "    <tr>\n",
       "      <th>Rockies</th>\n",
       "      <td>69.0</td>\n",
       "    </tr>\n",
       "  </tbody>\n",
       "</table>\n",
       "</div>"
      ],
      "text/plain": [
       "              Projected_Wins\n",
       "Team                        \n",
       "Dodgers                 99.0\n",
       "Padres                  87.5\n",
       "Giants                  81.5\n",
       "Diamondbacks            76.0\n",
       "Rockies                 69.0"
      ]
     },
     "execution_count": 357,
     "metadata": {},
     "output_type": "execute_result"
    }
   ],
   "source": [
    "NlWest = proj.iloc[[9, 17, 10, 24, 8]].sort_values(by=['Projected_Wins'], ascending = False)  \n",
    "NlWest"
   ]
  },
  {
   "cell_type": "markdown",
   "metadata": {},
   "source": [
    "---"
   ]
  },
  {
   "cell_type": "markdown",
   "metadata": {},
   "source": [
    "---"
   ]
  }
 ],
 "metadata": {
  "kernelspec": {
   "display_name": "Python 3",
   "language": "python",
   "name": "python3"
  },
  "language_info": {
   "codemirror_mode": {
    "name": "ipython",
    "version": 3
   },
   "file_extension": ".py",
   "mimetype": "text/x-python",
   "name": "python",
   "nbconvert_exporter": "python",
   "pygments_lexer": "ipython3",
   "version": "3.8.5"
  }
 },
 "nbformat": 4,
 "nbformat_minor": 4
}
